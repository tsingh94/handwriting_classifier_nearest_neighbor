{
 "cells": [
  {
   "cell_type": "markdown",
   "metadata": {},
   "source": [
    "## Reading and Processing the Handwritten Digits"
   ]
  },
  {
   "cell_type": "code",
   "execution_count": 9,
   "metadata": {
    "collapsed": true
   },
   "outputs": [],
   "source": [
    "%matplotlib inline\n",
    "import binascii\n",
    "import sys\n",
    "import numpy as np\n",
    "import matplotlib.pyplot as plt"
   ]
  },
  {
   "cell_type": "code",
   "execution_count": 2,
   "metadata": {
    "collapsed": true
   },
   "outputs": [],
   "source": [
    "def showDigitImage(image):\n",
    "    plt.axis('off')\n",
    "    plt.imshow(image.reshape((28,28)), cmap=plt.cm.gray)\n",
    "    plt.show()\n"
   ]
  },
  {
   "cell_type": "code",
   "execution_count": 3,
   "metadata": {},
   "outputs": [
    {
     "name": "stdout",
     "output_type": "stream",
     "text": [
      "DONE READING TRAINING LABELS FROM FILES\n"
     ]
    }
   ],
   "source": [
    "try:\n",
    "    trainingLabels = []\n",
    "\n",
    "    with open(\"data/train-labels-idx1-ubyte\", 'rb') as readTrainLabels:\n",
    "    \n",
    "        # reading in the magic number here\n",
    "        readTrainLabels.read(4)\n",
    "    \n",
    "        # getting the number of labels in the file\n",
    "        numLabels = int(binascii.hexlify(readTrainLabels.read(4)), 16)\n",
    "    \n",
    "        # making sure numLabels is equal to 60000\n",
    "        assert(numLabels == 60000)\n",
    "        \n",
    "        for i in range(60000):\n",
    "            trainingLabels.append(int(binascii.hexlify(readTrainLabels.read(1)), 16))\n",
    "            \n",
    "        trainingLabels = np.array(trainingLabels)\n",
    "        print (\"DONE READING TRAINING LABELS FROM FILES\")\n",
    "        \n",
    "except:\n",
    "    print(\"Got an error:\", sys.exc_info()[0])\n",
    "    raise"
   ]
  },
  {
   "cell_type": "code",
   "execution_count": 4,
   "metadata": {},
   "outputs": [
    {
     "name": "stdout",
     "output_type": "stream",
     "text": [
      "DONE READING TRAINING IMAGES FROM FILES\n"
     ]
    }
   ],
   "source": [
    "trainingData = np.zeros((60000, 784))\n",
    "\n",
    "with open(\"data/train-images-idx3-ubyte\", 'rb') as readTrainData:\n",
    "    \n",
    "    # reading in the magic number here\n",
    "    readTrainData.read(4)\n",
    "    \n",
    "    # getting the number of labels in the file\n",
    "    numLabels = int(binascii.hexlify(readTrainData.read(4)), 16)\n",
    "    \n",
    "    # making sure data size is equal to 60000\n",
    "    assert(numLabels == 60000)\n",
    "        \n",
    "    # getting the number of rows here\n",
    "    readTrainData.read(4)\n",
    "        \n",
    "    # getting the number of columns here \n",
    "    readTrainData.read(4)\n",
    "        \n",
    "    index = 0\n",
    "    pixelCount = 0\n",
    "    for i in range(60000 * 28 * 28):\n",
    "        if pixelCount == 784:\n",
    "            pixelCount = 0\n",
    "            index += 1\n",
    "        \n",
    "        trainingData[index][pixelCount] = int(binascii.hexlify(readTrainData.read(1)), 16)\n",
    "        pixelCount += 1\n",
    "\n",
    "    print (\"DONE READING TRAINING IMAGES FROM FILES\")\n",
    "        "
   ]
  },
  {
   "cell_type": "code",
   "execution_count": 5,
   "metadata": {},
   "outputs": [
    {
     "name": "stdout",
     "output_type": "stream",
     "text": [
      "DONE READING TEST LABELS FROM FILES\n"
     ]
    }
   ],
   "source": [
    "testLabels = []\n",
    "\n",
    "with open(\"data/t10k-labels-idx1-ubyte\", 'rb') as readTestLabels:\n",
    "    \n",
    "    # reading in the magic number here\n",
    "    readTestLabels.read(4)\n",
    "    \n",
    "    # getting the number of labels in the file\n",
    "    numLabels = int(binascii.hexlify(readTestLabels.read(4)), 16)\n",
    "    \n",
    "    # making sure numLabels is equal to 10000\n",
    "    assert(numLabels == 10000)\n",
    "        \n",
    "    for i in range(10000):\n",
    "        testLabels.append(int(binascii.hexlify(readTestLabels.read(1)), 16))\n",
    "            \n",
    "    testLabels = np.array(testLabels)\n",
    "    print (\"DONE READING TEST LABELS FROM FILES\")"
   ]
  },
  {
   "cell_type": "code",
   "execution_count": 6,
   "metadata": {},
   "outputs": [
    {
     "name": "stdout",
     "output_type": "stream",
     "text": [
      "DONE READING TEST IMAGES FROM FILES\n"
     ]
    }
   ],
   "source": [
    "testData = np.zeros((10000, 784))\n",
    "\n",
    "with open(\"data/t10k-images-idx3-ubyte\", 'rb') as readTestData:\n",
    "    \n",
    "    # reading in the magic number here\n",
    "    readTestData.read(4)\n",
    "    \n",
    "    # getting the number of labels in the file\n",
    "    numLabels = int(binascii.hexlify(readTestData.read(4)), 16)\n",
    "    \n",
    "    # making sure data size is equal to 10000\n",
    "    assert(numLabels == 10000)\n",
    "        \n",
    "    # getting the number of rows here\n",
    "    readTestData.read(4)\n",
    "        \n",
    "    # getting the number of columns here \n",
    "    readTestData.read(4)\n",
    "        \n",
    "    index = 0\n",
    "    pixelCount = 0\n",
    "    for i in range(10000 * 28 * 28):\n",
    "        if pixelCount == 784:\n",
    "            pixelCount = 0\n",
    "            index += 1\n",
    "        \n",
    "        testData[index][pixelCount] = int(binascii.hexlify(readTestData.read(1)), 16)\n",
    "        pixelCount += 1\n",
    "\n",
    "    print (\"DONE READING TEST IMAGES FROM FILES\")\n",
    "        "
   ]
  },
  {
   "cell_type": "markdown",
   "metadata": {},
   "source": [
    "## Graphing the number of each digit in both training and test data"
   ]
  },
  {
   "cell_type": "code",
   "execution_count": 15,
   "metadata": {},
   "outputs": [
    {
     "data": {
      "image/png": "[encoded data removed]",
      "text/plain": [
       "<matplotlib.figure.Figure at 0x11598e860>"
      ]
     },
     "metadata": {},
     "output_type": "display_data"
    },
    {
     "name": "stdout",
     "output_type": "stream",
     "text": [
      "Total Number of Training Points: 60000\n",
      "\n",
      "{0: 5923, 1: 6742, 2: 5958, 3: 6131, 4: 5842, 5: 5421, 6: 5918, 7: 6265, 8: 5851, 9: 5949}\n"
     ]
    }
   ],
   "source": [
    "digits, counts = np.unique(trainingLabels, return_counts = True)\n",
    "\n",
    "yAxis = np.arange(len(digits))\n",
    "\n",
    "plt.bar(yAxis, counts, align='center', alpha=0.5)\n",
    "plt.xticks(yAxis, digits)\n",
    "plt.ylabel('Number of images')\n",
    "plt.xlabel('Digit')\n",
    "plt.title('Count of Each Digit in the Training Set')\n",
    "plt.show()\n",
    "\n",
    "print (\"Total Number of Training Points: \" + str(len(trainingLabels)) + \"\\n\")\n",
    "print(dict(zip(digits, counts)))"
   ]
  },
  {
   "cell_type": "code",
   "execution_count": 17,
   "metadata": {},
   "outputs": [
    {
     "data": {
      "image/png": "[encoded data removed]",
      "text/plain": [
       "<matplotlib.figure.Figure at 0x115ada630>"
      ]
     },
     "metadata": {},
     "output_type": "display_data"
    },
    {
     "name": "stdout",
     "output_type": "stream",
     "text": [
      "Total Number of Test Points: 10000\n",
      "\n",
      "{0: 980, 1: 1135, 2: 1032, 3: 1010, 4: 982, 5: 892, 6: 958, 7: 1028, 8: 974, 9: 1009}\n"
     ]
    }
   ],
   "source": [
    "digits, counts = np.unique(testLabels, return_counts = True)\n",
    "\n",
    "yAxis = np.arange(len(digits))\n",
    "\n",
    "plt.bar(yAxis, counts, align='center', alpha=0.5)\n",
    "plt.xticks(yAxis, digits)\n",
    "plt.ylabel('Number of images')\n",
    "plt.xlabel('Digit')\n",
    "plt.title('Count of Each Digit in the Test Set')\n",
    "plt.show()\n",
    "\n",
    "print (\"Total Number of Test Points: \" + str(len(testLabels)) + \"\\n\")\n",
    "print(dict(zip(digits, counts)))"
   ]
  },
  {
   "cell_type": "markdown",
   "metadata": {},
   "source": [
    "## Performing the KNN Algorithm Here (k = 1)"
   ]
  },
  {
   "cell_type": "code",
   "execution_count": null,
   "metadata": {
    "collapsed": true
   },
   "outputs": [],
   "source": []
  }
 ],
 "metadata": {
  "kernelspec": {
   "display_name": "Python 3",
   "language": "python",
   "name": "python3"
  },
  "language_info": {
   "codemirror_mode": {
    "name": "ipython",
    "version": 3
   },
   "file_extension": ".py",
   "mimetype": "text/x-python",
   "name": "python",
   "nbconvert_exporter": "python",
   "pygments_lexer": "ipython3",
   "version": "3.6.3"
  }
 },
 "nbformat": 4,
 "nbformat_minor": 2
}
